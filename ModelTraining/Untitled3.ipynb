{
 "cells": [
  {
   "cell_type": "code",
   "execution_count": 14,
   "id": "b0fbea98",
   "metadata": {},
   "outputs": [],
   "source": [
    "from sklearn.preprocessing import StandardScaler\n",
    "import numpy as nd\n",
    "import pandas as pd"
   ]
  },
  {
   "cell_type": "code",
   "execution_count": 29,
   "id": "e066f84a",
   "metadata": {},
   "outputs": [],
   "source": [
    "lis = [[1, 53, 99476, 9, 0, 0, 38, 22264, 3209, 7714, 25912, 27608]]\n",
    "col = ['Sex', 'Age','Final_Weight',\n",
    "                  'Education', 'Capital_Gain', 'Capital_Loss',\n",
    "                  'Hours_Per_Week', 'Workclass', 'Occupation',\n",
    "                  'Relationship', 'Race', 'Country']"
   ]
  },
  {
   "cell_type": "code",
   "execution_count": 30,
   "id": "4f359dc4",
   "metadata": {},
   "outputs": [
    {
     "data": {
      "text/html": [
       "<div>\n",
       "<style scoped>\n",
       "    .dataframe tbody tr th:only-of-type {\n",
       "        vertical-align: middle;\n",
       "    }\n",
       "\n",
       "    .dataframe tbody tr th {\n",
       "        vertical-align: top;\n",
       "    }\n",
       "\n",
       "    .dataframe thead th {\n",
       "        text-align: right;\n",
       "    }\n",
       "</style>\n",
       "<table border=\"1\" class=\"dataframe\">\n",
       "  <thead>\n",
       "    <tr style=\"text-align: right;\">\n",
       "      <th></th>\n",
       "      <th>Sex</th>\n",
       "      <th>Age</th>\n",
       "      <th>Final_Weight</th>\n",
       "      <th>Education</th>\n",
       "      <th>Capital_Gain</th>\n",
       "      <th>Capital_Loss</th>\n",
       "      <th>Hours_Per_Week</th>\n",
       "      <th>Workclass</th>\n",
       "      <th>Occupation</th>\n",
       "      <th>Relationship</th>\n",
       "      <th>Race</th>\n",
       "      <th>Country</th>\n",
       "    </tr>\n",
       "  </thead>\n",
       "  <tbody>\n",
       "    <tr>\n",
       "      <th>0</th>\n",
       "      <td>1</td>\n",
       "      <td>53</td>\n",
       "      <td>99476</td>\n",
       "      <td>9</td>\n",
       "      <td>0</td>\n",
       "      <td>0</td>\n",
       "      <td>38</td>\n",
       "      <td>22264</td>\n",
       "      <td>3209</td>\n",
       "      <td>7714</td>\n",
       "      <td>25912</td>\n",
       "      <td>27608</td>\n",
       "    </tr>\n",
       "  </tbody>\n",
       "</table>\n",
       "</div>"
      ],
      "text/plain": [
       "   Sex  Age  Final_Weight  Education  Capital_Gain  Capital_Loss  \\\n",
       "0    1   53         99476          9             0             0   \n",
       "\n",
       "   Hours_Per_Week  Workclass  Occupation  Relationship   Race  Country  \n",
       "0              38      22264        3209          7714  25912    27608  "
      ]
     },
     "execution_count": 30,
     "metadata": {},
     "output_type": "execute_result"
    }
   ],
   "source": [
    "lis = pd.DataFrame(lis, columns=col)\n",
    "lis"
   ]
  },
  {
   "cell_type": "code",
   "execution_count": 31,
   "id": "e81255cc",
   "metadata": {},
   "outputs": [],
   "source": [
    "sc = StandardScaler()\n",
    "t = sc.fit_transform(lis)"
   ]
  },
  {
   "cell_type": "code",
   "execution_count": 21,
   "id": "d133ea98",
   "metadata": {},
   "outputs": [],
   "source": [
    "from cassandra.cluster import Cluster\n",
    "from cassandra.auth import PlainTextAuthProvider\n",
    "\n",
    "CLIENT_ID = 'kaYZmIsBJbtuZJNqEkoxBhoe'\n",
    "CLIENT_SECRET = 'N3CPCB0fB5m,ZZPWGJf3i_DNa1ScsOuFccdwwCk5fgOK0UtlHY,UNs2FhS,W6dEMIp_TB-NBSJAJli.kg7OWR.L65aW4gPZvvcwR4Q_eOUeLP2ZtRQInDUaC1qeuP95O'\n",
    "\n"
   ]
  },
  {
   "cell_type": "code",
   "execution_count": 15,
   "id": "95733b75",
   "metadata": {},
   "outputs": [
    {
     "data": {
      "text/plain": [
       "{'secure_connect_bundle': '/home/maverick14k/Files/Ineuron/Projects/Internship/AdultIncomePrediction_Project/secure-connect-ineuron.zip'}"
      ]
     },
     "execution_count": 15,
     "metadata": {},
     "output_type": "execute_result"
    }
   ],
   "source": [
    "cloud_config = {\n",
    "    'secure_connect_bundle': '/home/maverick14k/Files/Ineuron/Projects/Internship/AdultIncomePrediction_Project/secure-connect-ineuron.zip'\n",
    "}\n",
    "cloud_config"
   ]
  },
  {
   "cell_type": "code",
   "execution_count": 22,
   "id": "dd764a83",
   "metadata": {},
   "outputs": [
    {
     "name": "stdout",
     "output_type": "stream",
     "text": [
      "4.0.0.6815\n"
     ]
    }
   ],
   "source": [
    "\n",
    "cloud_config = {\n",
    "    'secure_connect_bundle': '/home/maverick14k/Files/Ineuron/Projects/Internship/AdultIncomePrediction_Project/secure-connect-ineuron.zip'\n",
    "}\n",
    "auth_provider = PlainTextAuthProvider(CLIENT_ID, CLIENT_SECRET)\n",
    "cluster = Cluster(cloud=cloud_config, auth_provider=auth_provider)\n",
    "session = cluster.connect()\n",
    "\n",
    "row = session.execute(\"select release_version from system.local\").one()\n",
    "if row:\n",
    "    print(row[0])\n",
    "else:\n",
    "    print(\"An error occurred.\")"
   ]
  },
  {
   "cell_type": "code",
   "execution_count": 23,
   "id": "4dcbe16d",
   "metadata": {},
   "outputs": [
    {
     "data": {
      "text/plain": [
       "<cassandra.cluster.ResultSet at 0x7f4ec45a9910>"
      ]
     },
     "execution_count": 23,
     "metadata": {},
     "output_type": "execute_result"
    }
   ],
   "source": [
    "session.execute(\"use adultcensusprediction\")"
   ]
  },
  {
   "cell_type": "code",
   "execution_count": 20,
   "id": "4fe2ef9e",
   "metadata": {},
   "outputs": [
    {
     "data": {
      "text/plain": [
       "<cassandra.cluster.ResultSet at 0x7f4ef4632130>"
      ]
     },
     "execution_count": 20,
     "metadata": {},
     "output_type": "execute_result"
    }
   ],
   "source": [
    "session.execute(\"CREATE TABLE InputData(id uuid PRIMARY KEY,Education text,Age int,WorkClass text,Final_Weight int,Occupation text,Capital_Loss int,Relationship text,Capital_Gain int,Martial_Status text,Sex text,Race text,Hours_Per_Week int,Country text);\")"
   ]
  }
 ],
 "metadata": {
  "kernelspec": {
   "display_name": "Python 3",
   "language": "python",
   "name": "python3"
  },
  "language_info": {
   "codemirror_mode": {
    "name": "ipython",
    "version": 3
   },
   "file_extension": ".py",
   "mimetype": "text/x-python",
   "name": "python",
   "nbconvert_exporter": "python",
   "pygments_lexer": "ipython3",
   "version": "3.8.8"
  }
 },
 "nbformat": 4,
 "nbformat_minor": 5
}
